{
 "cells": [
  {
   "cell_type": "code",
   "execution_count": 1,
   "metadata": {},
   "outputs": [
    {
     "name": "stdout",
     "output_type": "stream",
     "text": [
      "['apple', 'banana', 'pear', 'prange', 'pinapple']\n"
     ]
    }
   ],
   "source": [
    "fruit=['apple','banana','pear','prange','pinapple']\n",
    "print (fruit)"
   ]
  },
  {
   "cell_type": "code",
   "execution_count": 2,
   "metadata": {},
   "outputs": [
    {
     "name": "stdout",
     "output_type": "stream",
     "text": [
      "apple\n"
     ]
    }
   ],
   "source": [
    "fruit=['apple','banana','pear','prange','pinapple']\n",
    "for x in fruit:\n",
    "    if x=='apple':\n",
    "        print (x)\n",
    "        break\n"
   ]
  },
  {
   "cell_type": "code",
   "execution_count": 3,
   "metadata": {
    "scrolled": false
   },
   "outputs": [
    {
     "name": "stdout",
     "output_type": "stream",
     "text": [
      "['apple', 'banana', 'pear', 'prange', 'pinapple', 'kiwi', 'mandarin']\n"
     ]
    }
   ],
   "source": [
    "fruit=['apple','banana','pear','prange','pinapple']\n",
    "fruit.append('kiwi')\n",
    "fruit.append('mandarin')\n",
    "print(fruit)"
   ]
  },
  {
   "cell_type": "code",
   "execution_count": 4,
   "metadata": {},
   "outputs": [
    {
     "name": "stdout",
     "output_type": "stream",
     "text": [
      "apple has 5 letters\n",
      "banana has 6 letters\n",
      "pear has 4 letters\n",
      "prange has 6 letters\n",
      "pinapple has 8 letters\n",
      "kiwi has 4 letters\n",
      "mandarin has 8 letters\n"
     ]
    }
   ],
   "source": [
    "fruit=['apple', 'banana', 'pear', 'prange', 'pinapple', 'kiwi', 'mandarin']\n",
    "list=[]\n",
    "for y in fruit:\n",
    "    x=len(y)\n",
    "    print(y,'has',x,'letters')"
   ]
  },
  {
   "cell_type": "code",
   "execution_count": 14,
   "metadata": {},
   "outputs": [],
   "source": [
    "def half_squared(list3):\n",
    "    [a,a]=list3\n",
    "    list3=[a*a/2,a*a/2]\n",
    "    return list3"
   ]
  },
  {
   "cell_type": "code",
   "execution_count": 15,
   "metadata": {
    "scrolled": true
   },
   "outputs": [
    {
     "data": {
      "text/plain": [
       "True"
      ]
     },
     "execution_count": 15,
     "metadata": {},
     "output_type": "execute_result"
    }
   ],
   "source": [
    "half_squared([3,3]) == [4.5,4.5]"
   ]
  },
  {
   "cell_type": "code",
   "execution_count": null,
   "metadata": {
    "scrolled": true
   },
   "outputs": [],
   "source": [
    "a = int(input(\"input first number: \"))\n",
    "b = int(input(\"input second number: \"))\n",
    "if(a > b):\n",
    "    print(a)\n",
    "else:\n",
    "    print(b)\n"
   ]
  },
  {
   "cell_type": "code",
   "execution_count": 8,
   "metadata": {},
   "outputs": [
    {
     "name": "stdout",
     "output_type": "stream",
     "text": [
      "input score: 90\n",
      "A\n"
     ]
    }
   ],
   "source": [
    "score=int(input(\"input score: \"))\n",
    "if score>100:\n",
    "    print(\"error\")\n",
    "else:\n",
    "    if score>=90:\n",
    "        print(\"A\")\n",
    "    else:\n",
    "        if score>=60:\n",
    "            print(\"B\")\n",
    "        else:\n",
    "            if score>=0:\n",
    "                print(\"C\")\n",
    "            else:\n",
    "                print(\"error\")\n",
    "\n",
    "    "
   ]
  },
  {
   "cell_type": "code",
   "execution_count": 12,
   "metadata": {},
   "outputs": [],
   "source": [
    "def revSort(a,b,c):\n",
    "    if a<b:\n",
    "        a,b=b,a\n",
    "    if a<c:\n",
    "        a,c=c,a\n",
    "    if b<c:\n",
    "        b,c=c,b\n",
    "    return a,b,c\n",
    "        \n",
    "    "
   ]
  },
  {
   "cell_type": "code",
   "execution_count": 13,
   "metadata": {},
   "outputs": [
    {
     "data": {
      "text/plain": [
       "(32, 12, 4)"
      ]
     },
     "execution_count": 13,
     "metadata": {},
     "output_type": "execute_result"
    }
   ],
   "source": [
    "revSort(12,4,32)"
   ]
  },
  {
   "cell_type": "code",
   "execution_count": 7,
   "metadata": {},
   "outputs": [
    {
     "name": "stdout",
     "output_type": "stream",
     "text": [
      "1 2 3 4 5 6 "
     ]
    }
   ],
   "source": [
    "list4=[1,2,3]\n",
    "list5=[4,5,6]\n",
    "array=[list4,list5]\n",
    "for x in array:\n",
    "    for y in x:\n",
    "        print(y ,end=\" \")\n",
    "    "
   ]
  },
  {
   "cell_type": "code",
   "execution_count": 53,
   "metadata": {},
   "outputs": [
    {
     "name": "stdout",
     "output_type": "stream",
     "text": [
      "1\n",
      "8\n",
      "17\n",
      "18\n",
      "26\n",
      "27\n"
     ]
    }
   ],
   "source": [
    "\n",
    "for i in range(1,101):\n",
    "    a=i**3\n",
    "    b=sum(map(int,str(a)))\n",
    "    if b==i:\n",
    "        print (b)\n"
   ]
  },
  {
   "cell_type": "code",
   "execution_count": 55,
   "metadata": {},
   "outputs": [
    {
     "name": "stdout",
     "output_type": "stream",
     "text": [
      "4 8\n"
     ]
    }
   ],
   "source": [
    "import random\n",
    "x=random.randint(1,10)\n",
    "y=random.randint(1,10)\n",
    "x,y=y,x\n",
    "print(x,y)"
   ]
  },
  {
   "cell_type": "code",
   "execution_count": 81,
   "metadata": {},
   "outputs": [
    {
     "name": "stdout",
     "output_type": "stream",
     "text": [
      "   *\n",
      "  ***\n",
      " *****\n",
      "*******\n",
      " *****\n",
      "  ***\n",
      "   *\n"
     ]
    }
   ],
   "source": [
    "for i in range(1,5):\n",
    "    for j in range(4 - i):\n",
    "        print (\" \",end=\"\")\n",
    "        j += 1\n",
    "    for k in range(2 * i - 1):\n",
    "        print (\"*\",end=\"\")\n",
    "        k += 1\n",
    "    print ()\n",
    "    i += 1\n",
    "for i in range(1,4):\n",
    "    for j in range(i):\n",
    "        print(\" \",end=\"\")\n",
    "        j += 1\n",
    "    for k in range(2 * (4 - i) - 1):\n",
    "        print(\"*\",end=\"\")\n",
    "        k += 1\n",
    "    print ()\n",
    "    i += 1"
   ]
  },
  {
   "cell_type": "code",
   "execution_count": 91,
   "metadata": {},
   "outputs": [
    {
     "name": "stdout",
     "output_type": "stream",
     "text": [
      "123456\n",
      "234561\n",
      "345612\n",
      "456123\n",
      "561234\n",
      "612345\n"
     ]
    }
   ],
   "source": [
    "for i in range(1,7):\n",
    "    for j in range(i,7):\n",
    "        print(j,end=\"\")\n",
    "    for p in range(1,i):\n",
    "        print(p,end=\"\")        \n",
    "    print()\n",
    "    \n",
    "    "
   ]
  },
  {
   "cell_type": "code",
   "execution_count": 95,
   "metadata": {},
   "outputs": [
    {
     "name": "stdout",
     "output_type": "stream",
     "text": [
      "Charles\n",
      "Martina\n",
      "Michael\n",
      "Florence\n",
      "Eli\n"
     ]
    }
   ],
   "source": [
    "import string\n",
    "players=['charles','martina','michael','florence','eli']\n",
    "for x in players:\n",
    "    print(string.capwords(x))"
   ]
  }
 ],
 "metadata": {
  "kernelspec": {
   "display_name": "Python 3",
   "language": "python",
   "name": "python3"
  },
  "language_info": {
   "codemirror_mode": {
    "name": "ipython",
    "version": 3
   },
   "file_extension": ".py",
   "mimetype": "text/x-python",
   "name": "python",
   "nbconvert_exporter": "python",
   "pygments_lexer": "ipython3",
   "version": "3.6.5"
  }
 },
 "nbformat": 4,
 "nbformat_minor": 2
}
