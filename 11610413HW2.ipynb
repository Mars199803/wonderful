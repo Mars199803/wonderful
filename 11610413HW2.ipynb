{
 "cells": [
  {
   "cell_type": "code",
   "execution_count": 11,
   "metadata": {
    "scrolled": true
   },
   "outputs": [
    {
     "name": "stdout",
     "output_type": "stream",
     "text": [
      "The number of chook is 23\n",
      "the number of rubbit is 12\n"
     ]
    }
   ],
   "source": [
    "#question 1\n",
    "head=range(1,36)\n",
    "foot=range(1,95)\n",
    "for i in head:\n",
    "    j=35-i\n",
    "    if i*2+j*4==94:\n",
    "        print(\"The number of chook is\",i)\n",
    "        print(\"the number of rubbit is\",j)"
   ]
  },
  {
   "cell_type": "code",
   "execution_count": 26,
   "metadata": {},
   "outputs": [],
   "source": [
    "#question 2\n",
    "net={'you' :['bob','alice','claire'],'bob':['anuj','peggy'],'alice':['peggy'],'claire':['thom','jonny']}\n",
    "def find_m(net,a):\n",
    "    point=[a]\n",
    "    temp=net[a]\n",
    "    for i in temp:\n",
    "        if i[-1]=='m':\n",
    "            print (i)\n",
    "        if i[-1]!='m' and i in net.keys():\n",
    "            temp=net[i];\n",
    "            for i in temp:\n",
    "                if i[-1]=='m':\n",
    "                    print (i)\n",
    "                if i[-1]!='m' and i in net.keys():\n",
    "                    temp=net[i];\n"
   ]
  },
  {
   "cell_type": "code",
   "execution_count": 27,
   "metadata": {},
   "outputs": [
    {
     "name": "stdout",
     "output_type": "stream",
     "text": [
      "thom\n"
     ]
    }
   ],
   "source": [
    "find_m(net,\"you\")"
   ]
  },
  {
   "cell_type": "code",
   "execution_count": 2,
   "metadata": {},
   "outputs": [],
   "source": [
    "#question 3 （1）\n",
    "import os\n",
    "def file_name(file_dir):\n",
    "    a=[]\n",
    "    for root,dirs, files in os.walk(file_dir):\n",
    "        for file in files:          \n",
    "            if os.path.splitext(file)[1]==\".dll\":\n",
    "                a.append(os.path.join(root, file))\n",
    "    return a\n",
    "    \n",
    "    \n",
    "        \n"
   ]
  },
  {
   "cell_type": "code",
   "execution_count": 3,
   "metadata": {},
   "outputs": [
    {
     "data": {
      "text/plain": [
       "['C:\\\\Program Files\\\\2345Soft\\\\HaoZip\\\\2345DirectUI.dll',\n",
       " 'C:\\\\Program Files\\\\2345Soft\\\\HaoZip\\\\HaoZip.dll',\n",
       " 'C:\\\\Program Files\\\\2345Soft\\\\HaoZip\\\\HaozipCD.dll',\n",
       " 'C:\\\\Program Files\\\\2345Soft\\\\HaoZip\\\\HaoZipCom.dll',\n",
       " 'C:\\\\Program Files\\\\2345Soft\\\\HaoZip\\\\HaoZipCom32.dll',\n",
       " 'C:\\\\Program Files\\\\2345Soft\\\\HaoZip\\\\HaoZipEditor.dll',\n",
       " 'C:\\\\Program Files\\\\2345Soft\\\\HaoZip\\\\HaoZipExt.dll',\n",
       " 'C:\\\\Program Files\\\\2345Soft\\\\HaoZip\\\\HaoZipExt32.dll',\n",
       " 'C:\\\\Program Files\\\\2345Soft\\\\HaoZip\\\\HaoZipFormats.dll',\n",
       " 'C:\\\\Program Files\\\\2345Soft\\\\HaoZip\\\\Haozip_2345Upgrade.dll',\n",
       " 'C:\\\\Program Files\\\\2345Soft\\\\HaoZip\\\\msvcp120.dll',\n",
       " 'C:\\\\Program Files\\\\2345Soft\\\\HaoZip\\\\msvcr120.dll',\n",
       " 'C:\\\\Program Files\\\\2345Soft\\\\HaoZip\\\\lang\\\\HaoZipLang_chs.dll',\n",
       " 'C:\\\\Program Files\\\\2345Soft\\\\HaoZip\\\\Protect\\\\coral_extract.dll',\n",
       " 'C:\\\\Program Files\\\\2345Soft\\\\HaoZip\\\\Protect\\\\HaozipSvc.dll',\n",
       " 'C:\\\\Program Files\\\\2345Soft\\\\HaoZip\\\\tool\\\\2345DLAgent.dll',\n",
       " 'C:\\\\Program Files\\\\2345Soft\\\\HaoZip\\\\tool\\\\2345InstDLL.dll',\n",
       " 'C:\\\\Program Files\\\\2345Soft\\\\HaoZip\\\\tool\\\\2345InstUI.dll',\n",
       " 'C:\\\\Program Files\\\\2345Soft\\\\HaoZip\\\\tool\\\\HaoZipMgr.dll']"
      ]
     },
     "execution_count": 3,
     "metadata": {},
     "output_type": "execute_result"
    }
   ],
   "source": [
    "file_name(\"C:\\\\Program Files\\\\2345Soft\\\\HaoZip\")#在此输入指定地址"
   ]
  },
  {
   "cell_type": "code",
   "execution_count": 8,
   "metadata": {},
   "outputs": [],
   "source": [
    "#question 3 （2）\n",
    "import os\n",
    "def file_name(file_dir):\n",
    "    a=[]\n",
    "    for root,dirs, files in os.walk(file_dir):\n",
    "        for file in files:\n",
    "            if os.path.splitext(file)[0]==\"HaoZipLang_chs\":#在此输入指定的文件名，以admin为例\n",
    "                a.append(os.path.join(root, file))\n",
    "    return a\n",
    "    "
   ]
  },
  {
   "cell_type": "code",
   "execution_count": 9,
   "metadata": {},
   "outputs": [
    {
     "data": {
      "text/plain": [
       "['C:\\\\Program Files\\\\2345Soft\\\\HaoZip\\\\lang\\\\HaoZipLang_chs.dll']"
      ]
     },
     "execution_count": 9,
     "metadata": {},
     "output_type": "execute_result"
    }
   ],
   "source": [
    "file_name(\"C:\\\\Program Files\\\\2345Soft\\\\HaoZip\")#在此输入搜索范围地址"
   ]
  },
  {
   "cell_type": "code",
   "execution_count": 13,
   "metadata": {},
   "outputs": [],
   "source": [
    "#question 4 （1）\n",
    "import os\n",
    "def file_name(file_dir):\n",
    "    a=[]\n",
    "    for root,dirs, files in os.walk(file_dir,topdown=True):\n",
    "        for file in files: \n",
    "            if os.path.splitext(file)[1]==\".dll\":\n",
    "                a.append(os.path.join(root, file))\n",
    "    return a\n",
    "    \n",
    "    "
   ]
  },
  {
   "cell_type": "code",
   "execution_count": 14,
   "metadata": {},
   "outputs": [
    {
     "data": {
      "text/plain": [
       "['C:\\\\Program Files\\\\2345Soft\\\\HaoZip\\\\2345DirectUI.dll',\n",
       " 'C:\\\\Program Files\\\\2345Soft\\\\HaoZip\\\\HaoZip.dll',\n",
       " 'C:\\\\Program Files\\\\2345Soft\\\\HaoZip\\\\HaozipCD.dll',\n",
       " 'C:\\\\Program Files\\\\2345Soft\\\\HaoZip\\\\HaoZipCom.dll',\n",
       " 'C:\\\\Program Files\\\\2345Soft\\\\HaoZip\\\\HaoZipCom32.dll',\n",
       " 'C:\\\\Program Files\\\\2345Soft\\\\HaoZip\\\\HaoZipEditor.dll',\n",
       " 'C:\\\\Program Files\\\\2345Soft\\\\HaoZip\\\\HaoZipExt.dll',\n",
       " 'C:\\\\Program Files\\\\2345Soft\\\\HaoZip\\\\HaoZipExt32.dll',\n",
       " 'C:\\\\Program Files\\\\2345Soft\\\\HaoZip\\\\HaoZipFormats.dll',\n",
       " 'C:\\\\Program Files\\\\2345Soft\\\\HaoZip\\\\Haozip_2345Upgrade.dll',\n",
       " 'C:\\\\Program Files\\\\2345Soft\\\\HaoZip\\\\msvcp120.dll',\n",
       " 'C:\\\\Program Files\\\\2345Soft\\\\HaoZip\\\\msvcr120.dll',\n",
       " 'C:\\\\Program Files\\\\2345Soft\\\\HaoZip\\\\lang\\\\HaoZipLang_chs.dll',\n",
       " 'C:\\\\Program Files\\\\2345Soft\\\\HaoZip\\\\Protect\\\\coral_extract.dll',\n",
       " 'C:\\\\Program Files\\\\2345Soft\\\\HaoZip\\\\Protect\\\\HaozipSvc.dll',\n",
       " 'C:\\\\Program Files\\\\2345Soft\\\\HaoZip\\\\tool\\\\2345DLAgent.dll',\n",
       " 'C:\\\\Program Files\\\\2345Soft\\\\HaoZip\\\\tool\\\\2345InstDLL.dll',\n",
       " 'C:\\\\Program Files\\\\2345Soft\\\\HaoZip\\\\tool\\\\2345InstUI.dll',\n",
       " 'C:\\\\Program Files\\\\2345Soft\\\\HaoZip\\\\tool\\\\HaoZipMgr.dll']"
      ]
     },
     "execution_count": 14,
     "metadata": {},
     "output_type": "execute_result"
    }
   ],
   "source": [
    "file_name(\"C:\\\\Program Files\\\\2345Soft\\\\HaoZip\")#在此输入指定地址"
   ]
  },
  {
   "cell_type": "code",
   "execution_count": 15,
   "metadata": {},
   "outputs": [],
   "source": [
    "#question 4 （2）\n",
    "import os\n",
    "def file_name(file_dir):\n",
    "    a=[]\n",
    "    for root,dirs, files in os.walk(file_dir,topdown=True):\n",
    "        for file in files:\n",
    "            if os.path.splitext(file)[0]==\"HaoZipLang_chs\":#在此输入指定的文件名，以admin为例\n",
    "                a.append(os.path.join(root, file))\n",
    "    return a\n",
    "    "
   ]
  },
  {
   "cell_type": "code",
   "execution_count": 16,
   "metadata": {},
   "outputs": [
    {
     "data": {
      "text/plain": [
       "['C:\\\\Program Files\\\\2345Soft\\\\HaoZip\\\\lang\\\\HaoZipLang_chs.dll']"
      ]
     },
     "execution_count": 16,
     "metadata": {},
     "output_type": "execute_result"
    }
   ],
   "source": [
    "file_name(\"C:\\\\Program Files\\\\2345Soft\\\\HaoZip\")#在此输入搜索范围地址"
   ]
  },
  {
   "cell_type": "code",
   "execution_count": 22,
   "metadata": {},
   "outputs": [
    {
     "name": "stdout",
     "output_type": "stream",
     "text": [
      "53\n"
     ]
    }
   ],
   "source": [
    "#question 5\n",
    "import math\n",
    "a = 85\n",
    "cost = [-1] * (a + 1)\n",
    "cost[2] = 0\n",
    "\n",
    "for k in range(2 , math.floor(a/2) + 1):\n",
    "    \n",
    "    for final, cos in [(k*2, k),(k*2 + 1, math.floor(k/2)),(k*2+2, k+2)]:\n",
    "        if final>a:\n",
    "            break\n",
    "        if cost[final] == -1 or cost[final] > cost[k] + cos:\n",
    "            cost[final] = cost[k] + cos\n",
    "     \n",
    "    \n",
    "print (cost[a])"
   ]
  }
 ],
 "metadata": {
  "kernelspec": {
   "display_name": "Python 3",
   "language": "python",
   "name": "python3"
  },
  "language_info": {
   "codemirror_mode": {
    "name": "ipython",
    "version": 3
   },
   "file_extension": ".py",
   "mimetype": "text/x-python",
   "name": "python",
   "nbconvert_exporter": "python",
   "pygments_lexer": "ipython3",
   "version": "3.6.5"
  }
 },
 "nbformat": 4,
 "nbformat_minor": 2
}
