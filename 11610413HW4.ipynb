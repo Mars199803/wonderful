{
 "cells": [
  {
   "cell_type": "code",
   "execution_count": null,
   "metadata": {},
   "outputs": [],
   "source": [
    "# theory question\n",
    "# 1. （1） A=people  F（x）=x has black hair\n",
    "#          ∀F(A)  FALSE\n",
    "#     (2) A=people  F（x）=x boarded the moon\n",
    "#          ∃F（A）  TRUE\n",
    "#     (3) A=people  F（x）=x boarded the Jupiter\n",
    "#         ￢（∃F（A））  TRUE\n",
    "#     (4)A=student  F（x）=x is Asian  G（y）=y study in the US\n",
    "#         ∃￢（G （A） ∧F（A））  TRUE\n",
    "# 2. (1) tautology\n",
    "#    (2)contradiction\n",
    "#    (3) non permanent satisfation\n",
    "# 3. (1).true(2)false(3)false(4)true\n",
    "# 4.  ￢P∨S∨Q∧￢ R\n",
    "# 5.    A=“x is an even number.”\n",
    "#       B=“x is prime.”∃\n",
    "#       [∀z∈A,∃（x∈B，y∈B）]→（x+y=z）\n"
   ]
  }
 ],
 "metadata": {
  "kernelspec": {
   "display_name": "Python 3",
   "language": "python",
   "name": "python3"
  },
  "language_info": {
   "codemirror_mode": {
    "name": "ipython",
    "version": 3
   },
   "file_extension": ".py",
   "mimetype": "text/x-python",
   "name": "python",
   "nbconvert_exporter": "python",
   "pygments_lexer": "ipython3",
   "version": "3.6.5"
  }
 },
 "nbformat": 4,
 "nbformat_minor": 2
}
